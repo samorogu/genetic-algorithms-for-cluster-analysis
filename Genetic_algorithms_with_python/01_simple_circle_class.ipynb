{
 "cells": [
  {
   "cell_type": "markdown",
   "metadata": {},
   "source": [
    "## Simple circle class"
   ]
  },
  {
   "cell_type": "markdown",
   "metadata": {},
   "source": [
    "To remember how to create a class in "
   ]
  },
  {
   "cell_type": "code",
   "execution_count": 1,
   "metadata": {},
   "outputs": [],
   "source": [
    "# this is a comment\n",
    "import math  # imports make code from other modules available"
   ]
  },
  {
   "cell_type": "markdown",
   "metadata": {},
   "source": [
    "We define a simple circle class and depending on the radius, we define a function to calculate the area of that circle"
   ]
  },
  {
   "cell_type": "code",
   "execution_count": 2,
   "metadata": {},
   "outputs": [],
   "source": [
    "# code blocks are initiated by a trailing colon followed by indented lines\n",
    "class Circle:                     # define a class\n",
    "    def __init__(self, radius):   # constructor with parameter radius\n",
    "        self.radius = radius      # store the parameter in a class variable\n",
    "\n",
    "    def get_area(self):           # define a function that belongs to the class\n",
    "        return math.pi \\\n",
    "               * self.radius \\\n",
    "               * self.radius      # trailing \\ continues the expression on the next line\n"
   ]
  },
  {
   "cell_type": "markdown",
   "metadata": {},
   "source": [
    "We create an instance of the class circle if the circle is defined with an odd number"
   ]
  },
  {
   "cell_type": "code",
   "execution_count": 3,
   "metadata": {},
   "outputs": [
    {
     "name": "stdout",
     "output_type": "stream",
     "text": [
      "A circle with radius 1 has area 3.14\n",
      "A circle with radius 3 has area 28.27\n",
      "A circle with radius 5 has area 78.54\n",
      "A circle with radius 7 has area 153.94\n",
      "A circle with radius 9 has area 254.47\n"
     ]
    }
   ],
   "source": [
    "# code that is not in a class is executed immediately\n",
    "for i in range(1, 10):\n",
    "    if (i & 1) == 0:\n",
    "        continue\n",
    "    circle = Circle(i)            # create an instance\n",
    "    print(\"A circle with radius {0} has area {1:0.2f}\".format(\n",
    "        i, circle.get_area()      # `print` writes output to the console\n",
    "    ))"
   ]
  }
 ],
 "metadata": {
  "kernelspec": {
   "display_name": "Python 3",
   "language": "python",
   "name": "python3"
  },
  "language_info": {
   "codemirror_mode": {
    "name": "ipython",
    "version": 3
   },
   "file_extension": ".py",
   "mimetype": "text/x-python",
   "name": "python",
   "nbconvert_exporter": "python",
   "pygments_lexer": "ipython3",
   "version": "3.6.0"
  }
 },
 "nbformat": 4,
 "nbformat_minor": 2
}

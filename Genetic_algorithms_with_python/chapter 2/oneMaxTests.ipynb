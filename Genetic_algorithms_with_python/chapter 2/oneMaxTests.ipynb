{
 "cells": [
  {
   "cell_type": "markdown",
   "metadata": {},
   "source": [
    "## For this problem we will maximize the number of 1's in array of numbers"
   ]
  },
  {
   "cell_type": "code",
   "execution_count": 1,
   "metadata": {},
   "outputs": [],
   "source": [
    "import datetime\n",
    "import unittest\n",
    "\n",
    "import genetic"
   ]
  },
  {
   "cell_type": "markdown",
   "metadata": {},
   "source": [
    "We define the fitness function with the number of 1's "
   ]
  },
  {
   "cell_type": "code",
   "execution_count": 2,
   "metadata": {},
   "outputs": [],
   "source": [
    "def get_fitness(genes):\n",
    "    return genes.count(1)"
   ]
  },
  {
   "cell_type": "markdown",
   "metadata": {},
   "source": [
    "We display tne candidate string with the fisrt and last 15 numbers"
   ]
  },
  {
   "cell_type": "code",
   "execution_count": 3,
   "metadata": {},
   "outputs": [],
   "source": [
    "def display(candidate, startTime):\n",
    "    timeDiff = datetime.datetime.now() - startTime\n",
    "    print(\"{}...{}\\t{:3.2f}\\t{}\".format(\n",
    "        ''.join(map(str, candidate.Genes[:15])),\n",
    "        ''.join(map(str, candidate.Genes[-15:])),\n",
    "        candidate.Fitness,\n",
    "        timeDiff))"
   ]
  },
  {
   "cell_type": "markdown",
   "metadata": {},
   "source": [
    "The class will have 100 numbers and it will find the string with all the numbers in 1"
   ]
  },
  {
   "cell_type": "code",
   "execution_count": 4,
   "metadata": {},
   "outputs": [],
   "source": [
    "class OneMaxTests(unittest.TestCase):\n",
    "    def test(self, length=100):\n",
    "        geneset = [0, 1]\n",
    "        startTime = datetime.datetime.now()\n",
    "\n",
    "        def fnDisplay(candidate):\n",
    "            display(candidate, startTime)\n",
    "\n",
    "        def fnGetFitness(genes):\n",
    "            return get_fitness(genes)\n",
    "\n",
    "        optimalFitness = length\n",
    "        best = genetic.get_best(fnGetFitness, length, optimalFitness,\n",
    "                                geneset, fnDisplay)\n",
    "        self.assertEqual(best.Fitness, optimalFitness)\n",
    "\n",
    "    def test_benchmark(self):\n",
    "        genetic.Benchmark.run(lambda: self.test(1000))"
   ]
  },
  {
   "cell_type": "markdown",
   "metadata": {},
   "source": [
    "Let's test how much time it last to find a solution"
   ]
  },
  {
   "cell_type": "code",
   "execution_count": 5,
   "metadata": {
    "scrolled": true
   },
   "outputs": [
    {
     "name": "stdout",
     "output_type": "stream",
     "text": [
      "011001101010100...110010110011001\t50.00\t0:00:00.002687\n",
      "011001101010100...110010110011011\t51.00\t0:00:00.002984\n",
      "011001101010100...110010110011011\t52.00\t0:00:00.003116\n",
      "011001101010100...110010110011011\t53.00\t0:00:00.003226\n",
      "011001101010100...110011110011011\t54.00\t0:00:00.003419\n",
      "011001101010100...111011110011011\t55.00\t0:00:00.003529\n",
      "011001101010100...111011110011011\t56.00\t0:00:00.003665\n",
      "011001101010100...111011110011011\t57.00\t0:00:00.003861\n",
      "011001101010100...111011110111011\t58.00\t0:00:00.003969\n",
      "011001101010100...111011111111011\t59.00\t0:00:00.004119\n",
      "011001101010100...111011111111011\t60.00\t0:00:00.004228\n",
      "011001111010100...111011111111011\t61.00\t0:00:00.004334\n",
      "111001111010100...111011111111011\t62.00\t0:00:00.004501\n",
      "111001111010100...111011111111011\t63.00\t0:00:00.004765\n",
      "111001111010100...111011111111011\t64.00\t0:00:00.004926\n",
      "111001111010100...111011111111011\t65.00\t0:00:00.005028\n",
      "111001111010100...111111111111011\t66.00\t0:00:00.005131\n",
      "111001111010100...111111111111011\t67.00\t0:00:00.005612\n",
      "111001111010100...111111111111011\t68.00\t0:00:00.005730\n",
      "111001111110100...111111111111011\t69.00\t0:00:00.005965\n",
      "111001111110100...111111111111011\t70.00\t0:00:00.006171\n",
      "111001111110100...111111111111011\t71.00\t0:00:00.006374\n",
      "111001111110100...111111111111011\t72.00\t0:00:00.006504\n",
      "111001111110100...111111111111111\t73.00\t0:00:00.006629\n",
      "111001111110100...111111111111111\t74.00\t0:00:00.006750\n",
      "111001111110100...111111111111111\t75.00\t0:00:00.006840\n",
      "111001111110100...111111111111111\t76.00\t0:00:00.006930\n",
      "111001111110110...111111111111111\t77.00\t0:00:00.007030\n",
      "111001111110110...111111111111111\t78.00\t0:00:00.007140\n",
      "111001111110110...111111111111111\t79.00\t0:00:00.007231\n",
      "111001111110110...111111111111111\t80.00\t0:00:00.007323\n",
      "111001111110110...111111111111111\t81.00\t0:00:00.007440\n",
      "111001111110110...111111111111111\t82.00\t0:00:00.007832\n",
      "111001111111110...111111111111111\t83.00\t0:00:00.007974\n",
      "111001111111110...111111111111111\t84.00\t0:00:00.008138\n",
      "111001111111111...111111111111111\t85.00\t0:00:00.009320\n",
      "111001111111111...111111111111111\t86.00\t0:00:00.009920\n",
      "111001111111111...111111111111111\t87.00\t0:00:00.010056\n",
      "111001111111111...111111111111111\t88.00\t0:00:00.010280\n",
      "111001111111111...111111111111111\t89.00\t0:00:00.010729\n",
      "111001111111111...111111111111111\t90.00\t0:00:00.010929\n",
      "111001111111111...111111111111111\t91.00\t0:00:00.011559\n",
      "111001111111111...111111111111111\t92.00\t0:00:00.011827\n",
      "111001111111111...111111111111111\t93.00\t0:00:00.011991\n",
      "111001111111111...111111111111111\t94.00\t0:00:00.012264\n",
      "111101111111111...111111111111111\t95.00\t0:00:00.012454\n",
      "111101111111111...111111111111111\t96.00\t0:00:00.013748\n",
      "111101111111111...111111111111111\t97.00\t0:00:00.014298\n",
      "111101111111111...111111111111111\t98.00\t0:00:00.014564\n",
      "111111111111111...111111111111111\t99.00\t0:00:00.014938\n",
      "111111111111111...111111111111111\t100.00\t0:00:00.015437\n"
     ]
    }
   ],
   "source": [
    "OneMaxTests().test()"
   ]
  },
  {
   "cell_type": "markdown",
   "metadata": {},
   "source": [
    "Now we will test the benchmark if we run this 1000 times.It takes .16 seconds and a sd of .03 seconds."
   ]
  },
  {
   "cell_type": "code",
   "execution_count": 6,
   "metadata": {},
   "outputs": [
    {
     "name": "stdout",
     "output_type": "stream",
     "text": [
      "1 0.13 0.00\n",
      "2 0.13 0.00\n",
      "3 0.14 0.03\n",
      "4 0.14 0.02\n",
      "5 0.15 0.03\n",
      "6 0.15 0.03\n",
      "7 0.16 0.03\n",
      "8 0.16 0.03\n",
      "9 0.16 0.02\n",
      "10 0.15 0.02\n",
      "20 0.16 0.02\n",
      "30 0.15 0.02\n",
      "40 0.16 0.02\n",
      "50 0.16 0.02\n",
      "60 0.16 0.03\n",
      "70 0.16 0.03\n",
      "80 0.16 0.03\n",
      "90 0.16 0.03\n",
      "100 0.16 0.03\n"
     ]
    }
   ],
   "source": [
    "OneMaxTests().test_benchmark()"
   ]
  },
  {
   "cell_type": "markdown",
   "metadata": {},
   "source": [
    "Finally we will make a unit case to test the time it takes to run this two taks"
   ]
  },
  {
   "cell_type": "code",
   "execution_count": 7,
   "metadata": {},
   "outputs": [
    {
     "name": "stderr",
     "output_type": "stream",
     "text": [
      "..\n",
      "----------------------------------------------------------------------\n",
      "Ran 2 tests in 16.108s\n",
      "\n",
      "OK\n"
     ]
    }
   ],
   "source": [
    "if __name__ == '__main__':\n",
    "    unittest.main(argv=['first-arg-is-ignored','-b'], exit=False)"
   ]
  }
 ],
 "metadata": {
  "kernelspec": {
   "display_name": "Python 3",
   "language": "python",
   "name": "python3"
  },
  "language_info": {
   "codemirror_mode": {
    "name": "ipython",
    "version": 3
   },
   "file_extension": ".py",
   "mimetype": "text/x-python",
   "name": "python",
   "nbconvert_exporter": "python",
   "pygments_lexer": "ipython3",
   "version": "3.5.6"
  }
 },
 "nbformat": 4,
 "nbformat_minor": 2
}

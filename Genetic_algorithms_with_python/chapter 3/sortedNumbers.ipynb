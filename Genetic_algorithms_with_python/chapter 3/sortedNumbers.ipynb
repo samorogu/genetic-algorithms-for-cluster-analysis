{
 "cells": [
  {
   "cell_type": "code",
   "execution_count": 2,
   "metadata": {},
   "outputs": [],
   "source": [
    "import datetime\n",
    "import unittest\n",
    "\n",
    "import genetic"
   ]
  },
  {
   "cell_type": "markdown",
   "metadata": {},
   "source": [
    "In this fitness function we will return a gap to not punish cases that will stall the algorithm if it doesn't fullfit the next best solution. So in this case we will give partial credit for an almost good solution."
   ]
  },
  {
   "cell_type": "code",
   "execution_count": 3,
   "metadata": {},
   "outputs": [],
   "source": [
    "def get_fitness(genes):\n",
    "    fitness = 1\n",
    "    gap = 0\n",
    "\n",
    "    for i in range(1, len(genes)):\n",
    "        if genes[i] > genes[i - 1]:\n",
    "            fitness += 1\n",
    "        else:\n",
    "            gap += genes[i - 1] - genes[i]\n",
    "    return Fitness(fitness, gap)"
   ]
  },
  {
   "cell_type": "markdown",
   "metadata": {},
   "source": [
    "Display the canddate, the fitness and the time"
   ]
  },
  {
   "cell_type": "code",
   "execution_count": 4,
   "metadata": {},
   "outputs": [],
   "source": [
    "def display(candidate, startTime):\n",
    "    timeDiff = datetime.datetime.now() - startTime\n",
    "    print(\"{}\\t=> {}\\t{}\".format(\n",
    "        ', '.join(map(str, candidate.Genes)),\n",
    "        candidate.Fitness,\n",
    "        timeDiff))"
   ]
  },
  {
   "cell_type": "markdown",
   "metadata": {},
   "source": [
    "We need to somehow prefer sequences with small gaps between the runs to those with large gaps. There are a couple of ways to do that. One way that is often seen when the engine has constraints on the type of the fitness value is to scale up the fitness value, multiplying by a large value like 1000 for example, and then subtracting the amount of the gap. Another way would be to make the fitness score a floating point value with the gap value in the decimal portion and subtracted from 1. These would both work but we then have to decode them either mentally or actually if we want to break out each part of the fitness value for display.\n",
    "Lucky for us our engine doesn’t have a type limitation so we’re going to keep the values separate but encapsulated in a problem-specific fitness object that can be compared to its own type. This allows us to determine the better of two gene sequences based on their fitness, while making the fitness object responsible for how it is displayed."
   ]
  },
  {
   "cell_type": "code",
   "execution_count": 5,
   "metadata": {},
   "outputs": [],
   "source": [
    "class Fitness:\n",
    "    def __init__(self, numbersInSequenceCount, totalGap):\n",
    "        self.NumbersInSequenceCount = numbersInSequenceCount\n",
    "        self.TotalGap = totalGap\n",
    "    #Next we need to be able to compare two fitness values.\n",
    "\n",
    "    def __gt__(self, other):\n",
    "        if self.NumbersInSequenceCount != other.NumbersInSequenceCount:\n",
    "            return self.NumbersInSequenceCount > other.NumbersInSequenceCount\n",
    "        return self.TotalGap < other.TotalGap\n",
    "    \n",
    "    #Lastly, the Fitness object needs to know how to convert itself to a string for display:\n",
    "    def __str__(self):\n",
    "        return \"{} Sequential, {} Total Gap\".format(\n",
    "            self.NumbersInSequenceCount,\n",
    "            self.TotalGap)"
   ]
  },
  {
   "cell_type": "code",
   "execution_count": 6,
   "metadata": {},
   "outputs": [],
   "source": [
    "class SortedNumbersTests(unittest.TestCase):\n",
    "    def test_sort_10_numbers(self):\n",
    "        self.sort_numbers(10)\n",
    "\n",
    "    def sort_numbers(self, totalNumbers):\n",
    "        geneset = [i for i in range(100)]\n",
    "        startTime = datetime.datetime.now()\n",
    "\n",
    "        def fnDisplay(candidate):\n",
    "            display(candidate, startTime)\n",
    "\n",
    "        def fnGetFitness(genes):\n",
    "            return get_fitness(genes)\n",
    "\n",
    "        optimalFitness = Fitness(totalNumbers, 0)\n",
    "        best = genetic.get_best(fnGetFitness, totalNumbers, optimalFitness,\n",
    "                                geneset, fnDisplay)\n",
    "        self.assertTrue(not optimalFitness > best.Fitness)\n",
    "\n",
    "    def test_benchmark(self):\n",
    "        genetic.Benchmark.run(lambda: self.sort_numbers(40))"
   ]
  },
  {
   "cell_type": "code",
   "execution_count": 7,
   "metadata": {},
   "outputs": [
    {
     "name": "stdout",
     "output_type": "stream",
     "text": [
      "40, 98, 69, 49, 72, 80, 95, 57, 81, 2\t=> 6 Sequential, 166 Total Gap\t0:00:00.001809\n",
      "40, 98, 69, 49, 72, 80, 95, 60, 81, 2\t=> 6 Sequential, 163 Total Gap\t0:00:00.002125\n",
      "40, 53, 69, 49, 72, 80, 95, 60, 81, 2\t=> 7 Sequential, 134 Total Gap\t0:00:00.002238\n",
      "40, 53, 69, 49, 72, 80, 95, 60, 81, 10\t=> 7 Sequential, 126 Total Gap\t0:00:00.002432\n",
      "40, 53, 69, 49, 57, 80, 95, 60, 76, 10\t=> 7 Sequential, 121 Total Gap\t0:00:00.002631\n",
      "40, 57, 69, 49, 57, 67, 44, 60, 76, 10\t=> 7 Sequential, 109 Total Gap\t0:00:00.002861\n",
      "14, 57, 69, 49, 57, 67, 44, 60, 76, 62\t=> 7 Sequential, 57 Total Gap\t0:00:00.003008\n",
      "14, 57, 69, 49, 57, 67, 67, 70, 76, 62\t=> 7 Sequential, 34 Total Gap\t0:00:00.003462\n",
      "41, 57, 69, 53, 57, 67, 67, 70, 76, 62\t=> 7 Sequential, 30 Total Gap\t0:00:00.003992\n",
      "41, 57, 69, 53, 57, 67, 67, 70, 76, 66\t=> 7 Sequential, 26 Total Gap\t0:00:00.004589\n",
      "37, 57, 69, 53, 57, 67, 67, 70, 76, 93\t=> 8 Sequential, 16 Total Gap\t0:00:00.005551\n",
      "37, 57, 69, 53, 57, 66, 67, 70, 76, 99\t=> 9 Sequential, 16 Total Gap\t0:00:00.005803\n",
      "37, 52, 59, 53, 57, 66, 67, 70, 76, 99\t=> 9 Sequential, 6 Total Gap\t0:00:00.006377\n",
      "37, 37, 46, 53, 57, 62, 67, 70, 76, 99\t=> 9 Sequential, 0 Total Gap\t0:00:00.006786\n",
      "4, 37, 46, 53, 57, 62, 67, 70, 76, 99\t=> 10 Sequential, 0 Total Gap\t0:00:00.006982\n"
     ]
    }
   ],
   "source": [
    "SortedNumbersTests().test_sort_10_numbers()"
   ]
  }
 ],
 "metadata": {
  "kernelspec": {
   "display_name": "Python 3",
   "language": "python",
   "name": "python3"
  },
  "language_info": {
   "codemirror_mode": {
    "name": "ipython",
    "version": 3
   },
   "file_extension": ".py",
   "mimetype": "text/x-python",
   "name": "python",
   "nbconvert_exporter": "python",
   "pygments_lexer": "ipython3",
   "version": "3.5.6"
  }
 },
 "nbformat": 4,
 "nbformat_minor": 2
}

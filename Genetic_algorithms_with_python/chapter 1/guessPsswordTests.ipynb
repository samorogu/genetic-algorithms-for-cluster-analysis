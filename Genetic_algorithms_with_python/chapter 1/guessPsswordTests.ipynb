{
 "cells": [
  {
   "cell_type": "code",
   "execution_count": 1,
   "metadata": {},
   "outputs": [],
   "source": [
    "import datetime\n",
    "import random \n",
    "import unittest\n",
    "\n",
    "import genetic"
   ]
  },
  {
   "cell_type": "markdown",
   "metadata": {},
   "source": [
    "## Functions"
   ]
  },
  {
   "cell_type": "markdown",
   "metadata": {},
   "source": [
    "Compares a guess string with a target string.\n",
    "\n",
    "@param guess A simple string to check if the number of equal characters.\n",
    "\n",
    "@param target A string to verify the number of equal characters.\n",
    "\n",
    "@return number A number of equal characters."
   ]
  },
  {
   "cell_type": "code",
   "execution_count": 2,
   "metadata": {},
   "outputs": [],
   "source": [
    "def get_fitness(guess, target):\n",
    "    return sum(1 for expected, actual in zip(target, guess)\n",
    "               if expected == actual)"
   ]
  },
  {
   "cell_type": "markdown",
   "metadata": {},
   "source": [
    "Displays a guess with the current time of the system\n",
    "\n",
    "@param A string to guess the genes.\n",
    "\n",
    "@startTime Actual time of the system.\n",
    "\n",
    "@ returns in format the candidate the finess and the system time."
   ]
  },
  {
   "cell_type": "code",
   "execution_count": 3,
   "metadata": {},
   "outputs": [],
   "source": [
    "def display(candidate, startTime):\n",
    "    timeDiff = datetime.datetime.now() - startTime\n",
    "    print(\"{}\\t{}\\t{}\".format(\n",
    "        candidate.Genes, candidate.Fitness, timeDiff))"
   ]
  },
  {
   "cell_type": "code",
   "execution_count": 4,
   "metadata": {},
   "outputs": [],
   "source": [
    "class GuessPasswordTests(unittest.TestCase):\n",
    "    geneset = \" abcdefghijklmnopqrstuvwxyzABCDEFGHIJKLMNOPQRSTUVWXYZ!.,\"\n",
    "\n",
    "    def test_Hello_World(self):\n",
    "        target = \"Hello World!\"\n",
    "        self.guess_password(target)\n",
    "\n",
    "    def test_For_I_am_fearfully_and_wonderfully_made(self):\n",
    "        target = \"For I am fearfully and wonderfully made.\"\n",
    "        self.guess_password(target)\n",
    "\n",
    "    def guess_password(self, target):\n",
    "        startTime = datetime.datetime.now()\n",
    "\n",
    "        def fnGetFitness(genes):\n",
    "            return get_fitness(genes, target)\n",
    "\n",
    "        def fnDisplay(candidate):\n",
    "            display(candidate, startTime)\n",
    "\n",
    "        optimalFitness = len(target)\n",
    "        best = genetic.get_best(fnGetFitness, len(target), optimalFitness,\n",
    "                                self.geneset, fnDisplay)\n",
    "        self.assertEqual(best.Genes, target)\n",
    "\n",
    "    def test_Random(self):\n",
    "        length = 150\n",
    "        target = ''.join(random.choice(self.geneset)\n",
    "                         for _ in range(length))\n",
    "\n",
    "        self.guess_password(target)\n",
    "\n",
    "    #def test_benchmark(self):\n",
    "        #genetic.Benchmark.run(self.test_Random)\n"
   ]
  },
  {
   "cell_type": "markdown",
   "metadata": {},
   "source": [
    "Let's run a unit test to view if if the functions are correct. If this is wanted to run on the terminal the next can be executed on the terminal with guessPasswordTest.py file that is inside this directory\n",
    "\n",
    "`python -m unittest -b guessPasswordTests`"
   ]
  },
  {
   "cell_type": "code",
   "execution_count": 5,
   "metadata": {},
   "outputs": [
    {
     "name": "stderr",
     "output_type": "stream",
     "text": [
      "...\n",
      "----------------------------------------------------------------------\n",
      "Ran 3 tests in 3.558s\n",
      "\n",
      "OK\n"
     ]
    }
   ],
   "source": [
    "if __name__ == '__main__':\n",
    "    unittest.main(argv=['first-arg-is-ignored','-b'], exit=False)"
   ]
  },
  {
   "cell_type": "code",
   "execution_count": 6,
   "metadata": {},
   "outputs": [
    {
     "name": "stdout",
     "output_type": "stream",
     "text": [
      "hwJDpbnfs oK\t0\t0:00:00.000870\n",
      "hwJDpbWfs oK\t1\t0:00:00.001311\n",
      "hwJDpbWfsloK\t2\t0:00:00.004296\n",
      "hwlDpbWfsloK\t3\t0:00:00.006861\n",
      "hwlDpbWfrloK\t4\t0:00:00.011202\n",
      "hwlDpbWfrldK\t5\t0:00:00.011988\n",
      "HwlDpbWfrldK\t6\t0:00:00.015103\n",
      "HwllpbWfrldK\t7\t0:00:00.019327\n",
      "Hwllp WfrldK\t8\t0:00:00.019521\n",
      "Hwllo WfrldK\t9\t0:00:00.020498\n",
      "Hwllo Wfrld!\t10\t0:00:00.027719\n",
      "Hwllo World!\t11\t0:00:00.048660\n",
      "Hello World!\t12\t0:00:00.052904\n"
     ]
    }
   ],
   "source": [
    "GuessPasswordTests().test_Hello_World()"
   ]
  },
  {
   "cell_type": "markdown",
   "metadata": {},
   "source": [
    "We can try with a longer password"
   ]
  },
  {
   "cell_type": "code",
   "execution_count": 7,
   "metadata": {},
   "outputs": [
    {
     "name": "stdout",
     "output_type": "stream",
     "text": [
      "OKRGy!IB.bLjZAguPUkvlixwNCMsmtfaqDQSce,J\t1\t0:00:00.001005\n",
      "OKRGy!IB.bLjZfguPUkvlixwNCMsmtfaqDQSce,J\t2\t0:00:00.001835\n",
      "OKRGy!IB.bLjZfguPUkvlixwNCMsmtfaqDQSae,J\t3\t0:00:00.002789\n",
      "OKRGy!IB.bLjZfglPUkvlixwNCMsmtfaqDQSae,J\t4\t0:00:00.006001\n",
      "OKRGy!IB.bLjZfglPUkvldxwNCMsmtfaqDQSae,J\t5\t0:00:00.007802\n",
      "OKRGy!aB.bLjZfglPUkvldxwNCMsmtfaqDQSae,J\t6\t0:00:00.013166\n",
      "OKRGy!aB.bLjZfglPUkvldxwNCMsmtfaqDQSae,.\t7\t0:00:00.013904\n",
      "OKRGy!aB.bejZfglPUkvldxwNCMsmtfaqDQSae,.\t8\t0:00:00.017218\n",
      "OKRGy!aB.bejZfglPUkvldxwNCMsmtflqDQSae,.\t9\t0:00:00.020098\n",
      "OKRGy!aB.bejZfglPUkaldxwNCMsmtflqDQSae,.\t10\t0:00:00.020310\n",
      "OKRGy!aB.bejZfglPUkaldxwoCMsmtflqDQSae,.\t11\t0:00:00.026963\n",
      "OKRGy!aB.bejZfglPUkaldxwoCMsmtulqDQSae,.\t12\t0:00:00.027264\n",
      "OKR y!aB.bejZfglPUkaldxwoCMsmtulqDQSae,.\t13\t0:00:00.030177\n",
      "OKR y!aB.bejZfglPUkaldxwoCMsmtulqDQmae,.\t14\t0:00:00.031495\n",
      "OKR y!aB.bejZfulPUkaldxwoCMsmtulqDQmae,.\t15\t0:00:00.033439\n",
      "OKR y!am.bejZfulPUkaldxwoCMsmtulqDQmae,.\t16\t0:00:00.036843\n",
      "OKR y!am.beaZfulPUkaldxwoCMsmtulqDQmae,.\t17\t0:00:00.040086\n",
      "OKR y am.beaZfulPUkaldxwoCMsmtulqDQmae,.\t18\t0:00:00.041298\n",
      "OKR y am.beaZfulPUkandxwoCMsmtulqDQmae,.\t19\t0:00:00.046813\n",
      "OKR y am beaZfulPUkandxwoCMsmtulqDQmae,.\t20\t0:00:00.050000\n",
      "OKr y am beaZfulPUkandxwoCMsmtulqDQmae,.\t21\t0:00:00.051915\n",
      "OKr y am bearfulPUkandxwoCMsmtulqDQmae,.\t22\t0:00:00.053844\n",
      "OKr y am bearfulPUkandxwoCMsmfulqDQmae,.\t23\t0:00:00.055475\n",
      "OKr y am bearfulPUkandxwoCMsrfulqDQmae,.\t24\t0:00:00.058536\n",
      "OKr y am bearfulPUkandxwoCMerfulqDQmae,.\t25\t0:00:00.064264\n",
      "FKr y am bearfulPUkandxwoCMerfulqDQmae,.\t26\t0:00:00.067725\n",
      "FKr y am bearfulPUkandxwoCMerfulqDQmad,.\t27\t0:00:00.070110\n",
      "FKr y am bearfulPUkandxwoCMerfulqDQmade.\t28\t0:00:00.071020\n",
      "FKr y am bearfulPUkandxwoCMerfulqyQmade.\t29\t0:00:00.075947\n",
      "FKr y am bearfulPUkandxwoCderfulqyQmade.\t30\t0:00:00.077502\n",
      "FKr y am fearfulPUkandxwoCderfulqyQmade.\t31\t0:00:00.078725\n",
      "FKr I am fearfulPUkandxwoCderfulqyQmade.\t32\t0:00:00.078948\n",
      "FKr I am fearfulPUkandxwoCderfullyQmade.\t33\t0:00:00.080972\n",
      "FKr I am fearfulPUkand woCderfullyQmade.\t34\t0:00:00.115456\n",
      "FKr I am fearfulPykand woCderfullyQmade.\t35\t0:00:00.126956\n",
      "FKr I am fearfulPykand woCderfully made.\t36\t0:00:00.127558\n",
      "FKr I am fearfulPykand wonderfully made.\t37\t0:00:00.138267\n",
      "FKr I am fearfulPy and wonderfully made.\t38\t0:00:00.147050\n",
      "FKr I am fearfully and wonderfully made.\t39\t0:00:00.157157\n",
      "For I am fearfully and wonderfully made.\t40\t0:00:00.308804\n"
     ]
    }
   ],
   "source": [
    "GuessPasswordTests().test_For_I_am_fearfully_and_wonderfully_made()"
   ]
  },
  {
   "cell_type": "markdown",
   "metadata": {},
   "source": [
    "The last cell was used to test the benchmark and to call it we need to take out the comments in this function on the class to view the results. For 100 tests with a 150 lenght password it takes a mean time of 2.79 seconds with a sd of .68 seconds to find a solution."
   ]
  },
  {
   "cell_type": "code",
   "execution_count": 7,
   "metadata": {},
   "outputs": [
    {
     "name": "stdout",
     "output_type": "stream",
     "text": [
      "1 2.08 0.00\n",
      "2 2.57 0.00\n",
      "3 2.65 0.51\n",
      "4 2.74 0.45\n",
      "5 2.78 0.40\n",
      "6 2.70 0.40\n",
      "7 2.68 0.37\n",
      "8 2.63 0.38\n",
      "9 2.62 0.35\n",
      "10 2.55 0.41\n",
      "20 2.52 0.37\n",
      "30 2.62 0.50\n",
      "40 2.70 0.49\n",
      "50 2.84 0.76\n",
      "60 2.80 0.75\n",
      "70 2.81 0.75\n",
      "80 2.80 0.72\n",
      "90 2.81 0.71\n",
      "100 2.79 0.68\n"
     ]
    }
   ],
   "source": [
    "GuessPasswordTests().test_benchmark()"
   ]
  }
 ],
 "metadata": {
  "kernelspec": {
   "display_name": "Python 3",
   "language": "python",
   "name": "python3"
  },
  "language_info": {
   "codemirror_mode": {
    "name": "ipython",
    "version": 3
   },
   "file_extension": ".py",
   "mimetype": "text/x-python",
   "name": "python",
   "nbconvert_exporter": "python",
   "pygments_lexer": "ipython3",
   "version": "3.5.6"
  }
 },
 "nbformat": 4,
 "nbformat_minor": 2
}

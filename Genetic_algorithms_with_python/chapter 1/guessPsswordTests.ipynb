{
 "cells": [
  {
   "cell_type": "code",
   "execution_count": 1,
   "metadata": {},
   "outputs": [],
   "source": [
    "import datetime\n",
    "import random \n",
    "import unittest\n",
    "\n",
    "import genetic"
   ]
  },
  {
   "cell_type": "markdown",
   "metadata": {},
   "source": [
    "## Functions"
   ]
  },
  {
   "cell_type": "markdown",
   "metadata": {},
   "source": [
    "Compares a guess string with a target string.\n",
    "\n",
    "@param guess A simple string to check if the number of equal characters.\n",
    "\n",
    "@param target A string to verify the number of equal characters.\n",
    "\n",
    "@return number A number of equal characters."
   ]
  },
  {
   "cell_type": "code",
   "execution_count": 2,
   "metadata": {},
   "outputs": [],
   "source": [
    "def get_fitness(guess, target):\n",
    "    return sum(1 for expected, actual in zip(target, guess)\n",
    "               if expected == actual)"
   ]
  },
  {
   "cell_type": "markdown",
   "metadata": {},
   "source": [
    "Displays a guess with the current time of the system\n",
    "\n",
    "@param A string to guess the genes.\n",
    "\n",
    "@startTime Actual time of the system.\n",
    "\n",
    "@ returns in format the candidate the finess and the system time."
   ]
  },
  {
   "cell_type": "code",
   "execution_count": 3,
   "metadata": {},
   "outputs": [],
   "source": [
    "def display(candidate, startTime):\n",
    "    timeDiff = datetime.datetime.now() - startTime\n",
    "    print(\"{}\\t{}\\t{}\".format(\n",
    "        candidate.Genes, candidate.Fitness, timeDiff))"
   ]
  },
  {
   "cell_type": "code",
   "execution_count": 4,
   "metadata": {},
   "outputs": [],
   "source": [
    "class GuessPasswordTests(unittest.TestCase):\n",
    "    geneset = \" abcdefghijklmnopqrstuvwxyzABCDEFGHIJKLMNOPQRSTUVWXYZ!.,\"\n",
    "\n",
    "    def test_Hello_World(self):\n",
    "        target = \"Hello World!\"\n",
    "        self.guess_password(target)\n",
    "\n",
    "    def test_For_I_am_fearfully_and_wonderfully_made(self):\n",
    "        target = \"For I am fearfully and wonderfully made.\"\n",
    "        self.guess_password(target)\n",
    "\n",
    "    def guess_password(self, target):\n",
    "        startTime = datetime.datetime.now()\n",
    "\n",
    "        def fnGetFitness(genes):\n",
    "            return get_fitness(genes, target)\n",
    "\n",
    "        def fnDisplay(candidate):\n",
    "            display(candidate, startTime)\n",
    "\n",
    "        optimalFitness = len(target)\n",
    "        best = genetic.get_best(fnGetFitness, len(target), optimalFitness,\n",
    "                                self.geneset, fnDisplay)\n",
    "        self.assertEqual(best.Genes, target)\n",
    "\n",
    "    def test_Random(self):\n",
    "        length = 150\n",
    "        target = ''.join(random.choice(self.geneset)\n",
    "                         for _ in range(length))\n",
    "\n",
    "        self.guess_password(target)\n",
    "\n",
    "    def test_benchmark(self):\n",
    "        genetic.Benchmark.run(self.test_Random)\n"
   ]
  },
  {
   "cell_type": "code",
   "execution_count": 5,
   "metadata": {},
   "outputs": [
    {
     "name": "stderr",
     "output_type": "stream",
     "text": [
      "E\n",
      "======================================================================\n",
      "ERROR: /Users/samuelrocha/Library/Jupyter/runtime/kernel-1d022b35-2f8d-438d-a8e9-200daafae1c8 (unittest.loader._FailedTest)\n",
      "----------------------------------------------------------------------\n",
      "AttributeError: module '__main__' has no attribute '/Users/samuelrocha/Library/Jupyter/runtime/kernel-1d022b35-2f8d-438d-a8e9-200daafae1c8'\n",
      "\n",
      "----------------------------------------------------------------------\n",
      "Ran 1 test in 0.002s\n",
      "\n",
      "FAILED (errors=1)\n"
     ]
    },
    {
     "ename": "SystemExit",
     "evalue": "True",
     "output_type": "error",
     "traceback": [
      "An exception has occurred, use %tb to see the full traceback.\n",
      "\u001b[0;31mSystemExit\u001b[0m\u001b[0;31m:\u001b[0m True\n"
     ]
    },
    {
     "name": "stderr",
     "output_type": "stream",
     "text": [
      "/Users/samuelrocha/miniconda2/envs/genetic/lib/python3.5/site-packages/IPython/core/interactiveshell.py:3275: UserWarning: To exit: use 'exit', 'quit', or Ctrl-D.\n",
      "  warn(\"To exit: use 'exit', 'quit', or Ctrl-D.\", stacklevel=1)\n"
     ]
    }
   ],
   "source": [
    "if __name__ == '__main__':\n",
    "    unittest.main()"
   ]
  }
 ],
 "metadata": {
  "kernelspec": {
   "display_name": "Python 3",
   "language": "python",
   "name": "python3"
  },
  "language_info": {
   "codemirror_mode": {
    "name": "ipython",
    "version": 3
   },
   "file_extension": ".py",
   "mimetype": "text/x-python",
   "name": "python",
   "nbconvert_exporter": "python",
   "pygments_lexer": "ipython3",
   "version": "3.5.6"
  }
 },
 "nbformat": 4,
 "nbformat_minor": 2
}

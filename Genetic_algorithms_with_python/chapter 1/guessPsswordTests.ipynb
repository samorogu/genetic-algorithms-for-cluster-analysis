{
 "cells": [
  {
   "cell_type": "code",
   "execution_count": 1,
   "metadata": {},
   "outputs": [],
   "source": [
    "import datetime\n",
    "import random \n",
    "import unittest\n",
    "\n",
    "import genetic"
   ]
  },
  {
   "cell_type": "markdown",
   "metadata": {},
   "source": [
    "## Functions"
   ]
  },
  {
   "cell_type": "markdown",
   "metadata": {},
   "source": [
    "Compares a guess string with a target string.\n",
    "\n",
    "@param guess A simple string to check if the number of equal characters.\n",
    "\n",
    "@param target A string to verify the number of equal characters.\n",
    "\n",
    "@return number A number of equal characters."
   ]
  },
  {
   "cell_type": "code",
   "execution_count": 2,
   "metadata": {},
   "outputs": [],
   "source": [
    "def get_fitness(guess, target):\n",
    "    return sum(1 for expected, actual in zip(target, guess)\n",
    "               if expected == actual)"
   ]
  },
  {
   "cell_type": "markdown",
   "metadata": {},
   "source": [
    "Displays a guess with the current time of the system\n",
    "\n",
    "@param A string to guess the genes.\n",
    "\n",
    "@startTime Actual time of the system.\n",
    "\n",
    "@ returns in format the candidate the finess and the system time."
   ]
  },
  {
   "cell_type": "code",
   "execution_count": 3,
   "metadata": {},
   "outputs": [],
   "source": [
    "def display(candidate, startTime):\n",
    "    timeDiff = datetime.datetime.now() - startTime\n",
    "    print(\"{}\\t{}\\t{}\".format(\n",
    "        candidate.Genes, candidate.Fitness, timeDiff))"
   ]
  },
  {
   "cell_type": "code",
   "execution_count": 4,
   "metadata": {},
   "outputs": [],
   "source": [
    "class GuessPasswordTests(unittest.TestCase):\n",
    "    geneset = \" abcdefghijklmnopqrstuvwxyzABCDEFGHIJKLMNOPQRSTUVWXYZ!.,\"\n",
    "\n",
    "    def test_Hello_World(self):\n",
    "        target = \"Hello World!\"\n",
    "        self.guess_password(target)\n",
    "\n",
    "    def test_For_I_am_fearfully_and_wonderfully_made(self):\n",
    "        target = \"For I am fearfully and wonderfully made.\"\n",
    "        self.guess_password(target)\n",
    "\n",
    "    def guess_password(self, target):\n",
    "        startTime = datetime.datetime.now()\n",
    "\n",
    "        def fnGetFitness(genes):\n",
    "            return get_fitness(genes, target)\n",
    "\n",
    "        def fnDisplay(candidate):\n",
    "            display(candidate, startTime)\n",
    "\n",
    "        optimalFitness = len(target)\n",
    "        best = genetic.get_best(fnGetFitness, len(target), optimalFitness,\n",
    "                                self.geneset, fnDisplay)\n",
    "        self.assertEqual(best.Genes, target)\n",
    "\n",
    "    def test_Random(self):\n",
    "        length = 150\n",
    "        target = ''.join(random.choice(self.geneset)\n",
    "                         for _ in range(length))\n",
    "\n",
    "        self.guess_password(target)\n",
    "\n",
    "    def test_benchmark(self):\n",
    "        genetic.Benchmark.run(self.test_Random)\n"
   ]
  },
  {
   "cell_type": "code",
   "execution_count": 5,
   "metadata": {},
   "outputs": [
    {
     "name": "stdout",
     "output_type": "stream",
     "text": [
      "q,RzBFwmLAT.\t0\t0:00:00.001670\n",
      "H,RzBFwmLAT.\t1\t0:00:00.002238\n",
      "H,RzB wmLAT.\t2\t0:00:00.004113\n",
      "H,RzB woLAT.\t3\t0:00:00.005920\n",
      "H,lzB woLAT.\t4\t0:00:00.007288\n",
      "H,lzB woLAT!\t5\t0:00:00.010137\n",
      "HelzB woLAT!\t6\t0:00:00.017197\n",
      "HelzB woLlT!\t7\t0:00:00.021180\n",
      "HellB woLlT!\t8\t0:00:00.023013\n",
      "HellB WoLlT!\t9\t0:00:00.035863\n",
      "Hello WoLlT!\t10\t0:00:00.039199\n",
      "Hello WorlT!\t11\t0:00:00.049000\n",
      "Hello World!\t12\t0:00:00.064498\n"
     ]
    }
   ],
   "source": [
    "GuessPasswordTests().test_Hello_World()"
   ]
  },
  {
   "cell_type": "code",
   "execution_count": 6,
   "metadata": {},
   "outputs": [
    {
     "name": "stdout",
     "output_type": "stream",
     "text": [
      "wtWPcGq!gUhbmLiOpMTuKSRdHznleD.VZokCIJBN\t0\t0:00:00.000638\n",
      "wtWPcGq!gUhbmLiOpMTuKSRdHzdleD.VZokCIJBN\t1\t0:00:00.005650\n",
      "wtW cGq!gUhbmLiOpMTuKSRdHzdleD.VZokCIJBN\t2\t0:00:00.009017\n",
      "wtW cGq!gUhbmLiOpMTuKSRdHzdleD.VZokCaJBN\t3\t0:00:00.014515\n",
      "wtW cGq!gUhamLiOpMTuKSRdHzdleD.VZokCaJBN\t4\t0:00:00.016467\n",
      "wtW cGq!gUharLiOpMTuKSRdHzdleD.VZokCaJBN\t5\t0:00:00.021724\n",
      "wtW IGq!gUharLiOpMTuKSRdHzdleD.VZokCaJBN\t6\t0:00:00.023224\n",
      "wtW IGq!gfharLiOpMTuKSRdHzdleD.VZokCaJBN\t7\t0:00:00.026120\n",
      "wtW IGq!gfharLiOlMTuKSRdHzdleD.VZokCaJBN\t8\t0:00:00.027719\n",
      "wtW IGq!gfharLiOlMTuKSRdHzdleD.VZykCaJBN\t9\t0:00:00.027902\n",
      "wtW IGq!gfharLiOlMTuKSRdozdleD.VZykCaJBN\t10\t0:00:00.028315\n",
      "wtW IGq!gfharLiOlyTuKSRdozdleD.VZykCaJBN\t11\t0:00:00.029792\n",
      "wtW IGq!gfharLuOlyTuKSRdozdleD.VZykCaJBN\t12\t0:00:00.031149\n",
      "wtW IGq!gfharLuOlyTuKSRdozdlrD.VZykCaJBN\t13\t0:00:00.033072\n",
      "wtW IGqmgfharLuOlyTuKSRdozdlrD.VZykCaJBN\t14\t0:00:00.033712\n",
      "wtW IGqmgfharLuOlyTuKSRdozdlrD.VlykCaJBN\t15\t0:00:00.033998\n",
      "wtW I qmgfharLuOlyTuKSRdozdlrD.VlykCaJBN\t16\t0:00:00.034927\n",
      "wtW I qmgfharLuOlyTuKS dozdlrD.VlykCaJBN\t17\t0:00:00.038131\n",
      "wtW I qmgfearLuOlyTuKS dozdlrD.VlykCaJBN\t18\t0:00:00.039421\n",
      "wtW I amgfearLuOlyTuKS dozdlrD.VlykCaJBN\t19\t0:00:00.043035\n",
      "wtW I amgfearLuOlyTuKS dozdlrD.VlykCadBN\t20\t0:00:00.043441\n",
      "FtW I amgfearLuOlyTuKS dozdlrD.VlykCadBN\t21\t0:00:00.046245\n",
      "FtW I amgfearLuOlyTuKS dozdlrD.VlykCadeN\t22\t0:00:00.049177\n",
      "FtW I amgfearLuOlyTuKS dondlrD.VlykCadeN\t23\t0:00:00.053140\n",
      "FtW I amgfearLuOlyTuKS dondlrDuVlykCadeN\t24\t0:00:00.053454\n",
      "FtW I amgfearLuOlyTuKS donderDuVlykCadeN\t25\t0:00:00.056307\n",
      "FtW I am fearLuOlyTuKS donderDuVlykCadeN\t26\t0:00:00.084521\n",
      "FtW I am fearLuOlyTuKS donderDuVly CadeN\t27\t0:00:00.087067\n",
      "FtW I am fearLuOlyTuKS donderDully CadeN\t28\t0:00:00.089043\n",
      "FtW I am fearLuOlyTuKS donderDully madeN\t29\t0:00:00.090166\n",
      "FtW I am fearLuOlyTuKS wonderDully madeN\t30\t0:00:00.091215\n",
      "FoW I am fearLuOlyTuKS wonderDully madeN\t31\t0:00:00.094463\n",
      "FoW I am fearLuOly uKS wonderDully madeN\t32\t0:00:00.096176\n",
      "FoW I am fearLuOly uKS wonderfully madeN\t33\t0:00:00.101893\n",
      "FoW I am fearfuOly uKS wonderfully madeN\t34\t0:00:00.119377\n",
      "FoW I am fearfuOly aKS wonderfully madeN\t35\t0:00:00.120076\n",
      "FoW I am fearfuOly aKd wonderfully madeN\t36\t0:00:00.122474\n",
      "FoW I am fearfully aKd wonderfully madeN\t37\t0:00:00.128634\n",
      "For I am fearfully aKd wonderfully madeN\t38\t0:00:00.145535\n",
      "For I am fearfully aKd wonderfully made.\t39\t0:00:00.184463\n",
      "For I am fearfully and wonderfully made.\t40\t0:00:00.213605\n"
     ]
    }
   ],
   "source": [
    "GuessPasswordTests().test_For_I_am_fearfully_and_wonderfully_made()"
   ]
  },
  {
   "cell_type": "code",
   "execution_count": 7,
   "metadata": {},
   "outputs": [
    {
     "name": "stdout",
     "output_type": "stream",
     "text": [
      "1 2.08 0.00\n",
      "2 2.57 0.00\n",
      "3 2.65 0.51\n",
      "4 2.74 0.45\n",
      "5 2.78 0.40\n",
      "6 2.70 0.40\n",
      "7 2.68 0.37\n",
      "8 2.63 0.38\n",
      "9 2.62 0.35\n",
      "10 2.55 0.41\n",
      "20 2.52 0.37\n",
      "30 2.62 0.50\n",
      "40 2.70 0.49\n",
      "50 2.84 0.76\n",
      "60 2.80 0.75\n",
      "70 2.81 0.75\n",
      "80 2.80 0.72\n",
      "90 2.81 0.71\n",
      "100 2.79 0.68\n"
     ]
    }
   ],
   "source": [
    "GuessPasswordTests().test_benchmark()"
   ]
  }
 ],
 "metadata": {
  "kernelspec": {
   "display_name": "Python 3",
   "language": "python",
   "name": "python3"
  },
  "language_info": {
   "codemirror_mode": {
    "name": "ipython",
    "version": 3
   },
   "file_extension": ".py",
   "mimetype": "text/x-python",
   "name": "python",
   "nbconvert_exporter": "python",
   "pygments_lexer": "ipython3",
   "version": "3.5.6"
  }
 },
 "nbformat": 4,
 "nbformat_minor": 2
}
